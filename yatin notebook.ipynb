{
 "cells": [
  {
   "cell_type": "markdown",
   "id": "b3708381",
   "metadata": {},
   "source": [
    "## Import of libraries"
   ]
  },
  {
   "cell_type": "code",
   "execution_count": null,
   "id": "a62e4e1e",
   "metadata": {},
   "outputs": [],
   "source": [
    "import pandas as pd\n",
    "from langchain_community.llms import Ollama\n",
    "from langchain.docstore.document import Document\n",
    "from langchain_community.embeddings import OllamaEmbeddings,openai.OpenAIEmbeddings\n",
    "from langchain_community.vectorstores import Chroma\n",
    "\n",
    "from langchain.chains import RetrievalQA\n"
   ]
  },
  {
   "cell_type": "code",
   "execution_count": 28,
   "id": "e7efe7e0-3712-4949-b936-73739f6cc2c6",
   "metadata": {},
   "outputs": [
    {
     "data": {
      "text/html": [
       "<div>\n",
       "<style scoped>\n",
       "    .dataframe tbody tr th:only-of-type {\n",
       "        vertical-align: middle;\n",
       "    }\n",
       "\n",
       "    .dataframe tbody tr th {\n",
       "        vertical-align: top;\n",
       "    }\n",
       "\n",
       "    .dataframe thead th {\n",
       "        text-align: right;\n",
       "    }\n",
       "</style>\n",
       "<table border=\"1\" class=\"dataframe\">\n",
       "  <thead>\n",
       "    <tr style=\"text-align: right;\">\n",
       "      <th></th>\n",
       "      <th>image</th>\n",
       "      <th>text</th>\n",
       "    </tr>\n",
       "  </thead>\n",
       "  <tbody>\n",
       "    <tr>\n",
       "      <th>0</th>\n",
       "      <td>{'bytes': b'\\x89PNG\\r\\n\\x1a\\n\\x00\\x00\\x00\\rIHD...</td>\n",
       "      <td>&lt;html&gt;\\n&lt;style&gt;\\n* {\\n  box-sizing: border-box...</td>\n",
       "    </tr>\n",
       "    <tr>\n",
       "      <th>1</th>\n",
       "      <td>{'bytes': b'\\x89PNG\\r\\n\\x1a\\n\\x00\\x00\\x00\\rIHD...</td>\n",
       "      <td>&lt;html&gt;\\n&lt;style&gt;\\nbody {\\n  display: flex;\\n  f...</td>\n",
       "    </tr>\n",
       "    <tr>\n",
       "      <th>2</th>\n",
       "      <td>{'bytes': b'\\x89PNG\\r\\n\\x1a\\n\\x00\\x00\\x00\\rIHD...</td>\n",
       "      <td>&lt;html&gt;\\n&lt;style&gt;\\nbody {\\n    font-family: Aria...</td>\n",
       "    </tr>\n",
       "    <tr>\n",
       "      <th>3</th>\n",
       "      <td>{'bytes': b'\\x89PNG\\r\\n\\x1a\\n\\x00\\x00\\x00\\rIHD...</td>\n",
       "      <td>&lt;html&gt;\\n&lt;style&gt;\\nbody {\\n    font-family: Aria...</td>\n",
       "    </tr>\n",
       "    <tr>\n",
       "      <th>4</th>\n",
       "      <td>{'bytes': b'\\x89PNG\\r\\n\\x1a\\n\\x00\\x00\\x00\\rIHD...</td>\n",
       "      <td>&lt;html&gt;\\n&lt;style&gt;\\n:root {\\n  --primary: #c0ffee...</td>\n",
       "    </tr>\n",
       "  </tbody>\n",
       "</table>\n",
       "</div>"
      ],
      "text/plain": [
       "                                               image  \\\n",
       "0  {'bytes': b'\\x89PNG\\r\\n\\x1a\\n\\x00\\x00\\x00\\rIHD...   \n",
       "1  {'bytes': b'\\x89PNG\\r\\n\\x1a\\n\\x00\\x00\\x00\\rIHD...   \n",
       "2  {'bytes': b'\\x89PNG\\r\\n\\x1a\\n\\x00\\x00\\x00\\rIHD...   \n",
       "3  {'bytes': b'\\x89PNG\\r\\n\\x1a\\n\\x00\\x00\\x00\\rIHD...   \n",
       "4  {'bytes': b'\\x89PNG\\r\\n\\x1a\\n\\x00\\x00\\x00\\rIHD...   \n",
       "\n",
       "                                                text  \n",
       "0  <html>\\n<style>\\n* {\\n  box-sizing: border-box...  \n",
       "1  <html>\\n<style>\\nbody {\\n  display: flex;\\n  f...  \n",
       "2  <html>\\n<style>\\nbody {\\n    font-family: Aria...  \n",
       "3  <html>\\n<style>\\nbody {\\n    font-family: Aria...  \n",
       "4  <html>\\n<style>\\n:root {\\n  --primary: #c0ffee...  "
      ]
     },
     "execution_count": 28,
     "metadata": {},
     "output_type": "execute_result"
    }
   ],
   "source": [
    "\n",
    "\n",
    "# Specify the path to your parquet file\n",
    "file_path = 'train-00010-of-00071-7c89af7fb68feb34.parquet'\n",
    "\n",
    "# Read the parquet file into a DataFrame\n",
    "df = pd.read_parquet(file_path)\n",
    "\n",
    "# Display the first few rows\n",
    "df.head()\n"
   ]
  },
  {
   "cell_type": "code",
   "execution_count": 32,
   "id": "629dfb1d-274c-4c31-b131-65f45137aed6",
   "metadata": {},
   "outputs": [],
   "source": [
    "df = df.iloc[:,-1]"
   ]
  },
  {
   "cell_type": "code",
   "execution_count": 33,
   "id": "4933e5e9-cb49-43c6-87aa-8dfd2853ca32",
   "metadata": {},
   "outputs": [],
   "source": [
    "\n",
    "\n",
    "# The Ollama instance with the base URL and model name\n",
    "ollama = OllamaEmbeddings(base_url='http://localhost:11434', model=\"mistral\")\n",
    "\n",
    "# creating embeddings for ollama\n",
    "doc_embeddings = ollama.embed_documents(df)"
   ]
  },
  {
   "cell_type": "code",
   "execution_count": 36,
   "id": "a97657a3-dd2c-4ec3-8b8a-33adff2db719",
   "metadata": {},
   "outputs": [],
   "source": [
    "# Save the embeddings to a text file\n",
    "with open('embedding_doc.txt', 'w') as f:\n",
    "    for embedding in doc_embeddings:\n",
    "        embedding_str = ' '.join(map(str, embedding))\n",
    "        f.write(embedding_str + '\\n')"
   ]
  },
  {
   "cell_type": "code",
   "execution_count": 51,
   "id": "8bcd1d17-db69-4474-b904-ac112db27459",
   "metadata": {},
   "outputs": [],
   "source": [
    "\n",
    "df = df.to_frame(name='text')\n"
   ]
  },
  {
   "cell_type": "code",
   "execution_count": 53,
   "id": "b70b12cf-552a-4d7c-9168-53fe3e70c910",
   "metadata": {},
   "outputs": [],
   "source": [
    "\n",
    "\n",
    "\n",
    "documents = [Document(page_content=text) for text in df]\n"
   ]
  },
  {
   "cell_type": "code",
   "execution_count": 55,
   "id": "d357bf6c-19bf-4e25-b7f6-2e7f39065042",
   "metadata": {},
   "outputs": [],
   "source": [
    "# Assuming 'text' is the column with the text data\n",
    "text_series = df['text']"
   ]
  },
  {
   "cell_type": "code",
   "execution_count": 56,
   "id": "4bdd0ff1-cbd3-4c47-b709-86bbd4c8bb32",
   "metadata": {},
   "outputs": [],
   "source": [
    "\n",
    "\n",
    "# Convert each row of the DataFrame into a Document object\n",
    "documents = [\n",
    "    Document(page_content=row['text'], metadata=row.drop('text').to_dict())\n",
    "    for index, row in df.iterrows()\n",
    "]"
   ]
  },
  {
   "cell_type": "code",
   "execution_count": 57,
   "id": "ae972a16-202c-441f-a356-366e88d634a3",
   "metadata": {},
   "outputs": [],
   "source": [
    "\n",
    "\n",
    "persist_directory = 'vec_dir'\n",
    "\n",
    "# Create the vector store with Chroma\n",
    "vector_db = Chroma.from_documents(\n",
    "    documents=documents, \n",
    "    embedding=ollama, \n",
    "    persist_directory=persist_directory\n",
    ")\n"
   ]
  },
  {
   "cell_type": "code",
   "execution_count": 58,
   "id": "bf961f47-3e1d-419c-9038-0fca070f0cf8",
   "metadata": {},
   "outputs": [],
   "source": [
    "retriever = vector_db.as_retriever()"
   ]
  },
  {
   "cell_type": "code",
   "execution_count": 59,
   "id": "45bb9540-0d82-447d-bcfc-6df7ebbaeeb7",
   "metadata": {},
   "outputs": [],
   "source": [
    "\n",
    "llm = Ollama(model=\"mistral\")\n",
    "\n",
    "\n",
    "chain = RetrievalQA.from_chain_type(\n",
    "    llm=llm, \n",
    "    chain_type=\"stuff\", \n",
    "    retriever=retriever, \n",
    "    return_source_documents=True\n",
    ")\n"
   ]
  },
  {
   "cell_type": "markdown",
   "id": "e66ad87b",
   "metadata": {},
   "source": [
    "## Retrival using RAG and querying using the llm"
   ]
  },
  {
   "cell_type": "code",
   "execution_count": null,
   "id": "e6c41e38",
   "metadata": {},
   "outputs": [],
   "source": [
    "query = \"html css js code for social media login page\"\n",
    "response = chain({\"query\": query})\n",
    "\n",
    "\n",
    "answer = response['result']\n",
    "\n",
    "print(\"Answer:\", answer)"
   ]
  }
 ],
 "metadata": {
  "kernelspec": {
   "display_name": "Python 3 (ipykernel)",
   "language": "python",
   "name": "python3"
  },
  "language_info": {
   "codemirror_mode": {
    "name": "ipython",
    "version": 3
   },
   "file_extension": ".py",
   "mimetype": "text/x-python",
   "name": "python",
   "nbconvert_exporter": "python",
   "pygments_lexer": "ipython3",
   "version": "3.11.4"
  }
 },
 "nbformat": 4,
 "nbformat_minor": 5
}
